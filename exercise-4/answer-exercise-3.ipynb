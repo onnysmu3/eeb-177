{
 "cells": [
  {
   "cell_type": "code",
   "execution_count": 5,
   "metadata": {
    "collapsed": false
   },
   "outputs": [
    {
     "name": "stdout",
     "output_type": "stream",
     "text": [
      "Liftoff in 10 seconds\n",
      "Liftoff in 9 seconds\n",
      "Liftoff in 8 seconds\n",
      "Liftoff in 7 seconds\n",
      "Liftoff in 6 seconds\n",
      "Liftoff in 5 seconds\n",
      "Liftoff in 4 seconds\n",
      "Liftoff in 3 seconds\n",
      "Liftoff in 2 seconds\n",
      "Liftoff in 1 seconds\n"
     ]
    }
   ],
   "source": [
    "print (\"Liftoff in 10 seconds\")\n",
    "print (\"Liftoff in 9 seconds\")\n",
    "print (\"Liftoff in 8 seconds\")\n",
    "print (\"Liftoff in 7 seconds\")\n",
    "print (\"Liftoff in 6 seconds\")\n",
    "print (\"Liftoff in 5 seconds\")\n",
    "print (\"Liftoff in 4 seconds\")\n",
    "print (\"Liftoff in 3 seconds\")\n",
    "print (\"Liftoff in 2 seconds\")\n",
    "print (\"Liftoff in 1 seconds\")"
   ]
  },
  {
   "cell_type": "code",
   "execution_count": 11,
   "metadata": {
    "collapsed": true
   },
   "outputs": [],
   "source": [
    "#the sum of the squares of numbers from 1 to 8 (i.e. 1^2 + 2^2...8^2)\n",
    "a = 1**2\n",
    "b = 2**2\n",
    "c = 3**2\n",
    "d = 4**2\n",
    "e = 5**2\n",
    "f = 6**2\n",
    "g = 7**2\n",
    "h = 8**2\n",
    "i = a+b+c+d+e+f+g+h"
   ]
  },
  {
   "cell_type": "code",
   "execution_count": 10,
   "metadata": {
    "collapsed": false
   },
   "outputs": [
    {
     "data": {
      "text/plain": [
       "204"
      ]
     },
     "execution_count": 10,
     "metadata": {},
     "output_type": "execute_result"
    }
   ],
   "source": [
    "i"
   ]
  },
  {
   "cell_type": "code",
   "execution_count": 19,
   "metadata": {
    "collapsed": true
   },
   "outputs": [],
   "source": [
    "s0 = \"atgtac\"\n",
    "s1 = \"atttaca\"\n",
    "s2 = \"attttca\""
   ]
  },
  {
   "cell_type": "code",
   "execution_count": 20,
   "metadata": {
    "collapsed": false
   },
   "outputs": [
    {
     "name": "stdout",
     "output_type": "stream",
     "text": [
      "2\n",
      "3\n",
      "4\n"
     ]
    }
   ],
   "source": [
    "print(s0.count(\"t\"))\n",
    "print(s1.count(\"t\"))\n",
    "print(s2.count(\"t\"))"
   ]
  },
  {
   "cell_type": "code",
   "execution_count": null,
   "metadata": {
    "collapsed": true
   },
   "outputs": [],
   "source": []
  }
 ],
 "metadata": {
  "anaconda-cloud": {},
  "kernelspec": {
   "display_name": "Python [default]",
   "language": "python",
   "name": "python3"
  },
  "language_info": {
   "codemirror_mode": {
    "name": "ipython",
    "version": 3
   },
   "file_extension": ".py",
   "mimetype": "text/x-python",
   "name": "python",
   "nbconvert_exporter": "python",
   "pygments_lexer": "ipython3",
   "version": "3.5.2"
  }
 },
 "nbformat": 4,
 "nbformat_minor": 2
}
