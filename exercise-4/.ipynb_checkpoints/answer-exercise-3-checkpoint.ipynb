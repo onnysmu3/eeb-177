{
 "cells": [
  {
   "cell_type": "code",
   "execution_count": 5,
   "metadata": {
    "collapsed": false
   },
   "outputs": [
    {
     "name": "stdout",
     "output_type": "stream",
     "text": [
      "Liftoff in 10 seconds\n",
      "Liftoff in 9 seconds\n",
      "Liftoff in 8 seconds\n",
      "Liftoff in 7 seconds\n",
      "Liftoff in 6 seconds\n",
      "Liftoff in 5 seconds\n",
      "Liftoff in 4 seconds\n",
      "Liftoff in 3 seconds\n",
      "Liftoff in 2 seconds\n",
      "Liftoff in 1 seconds\n"
     ]
    }
   ],
   "source": [
    "print (\"Liftoff in 10 seconds\")\n",
    "print (\"Liftoff in 9 seconds\")\n",
    "print (\"Liftoff in 8 seconds\")\n",
    "print (\"Liftoff in 7 seconds\")\n",
    "print (\"Liftoff in 6 seconds\")\n",
    "print (\"Liftoff in 5 seconds\")\n",
    "print (\"Liftoff in 4 seconds\")\n",
    "print (\"Liftoff in 3 seconds\")\n",
    "print (\"Liftoff in 2 seconds\")\n",
    "print (\"Liftoff in 1 seconds\")"
   ]
  },
  {
   "cell_type": "code",
   "execution_count": null,
   "metadata": {
    "collapsed": true
   },
   "outputs": [],
   "source": []
  }
 ],
 "metadata": {
  "anaconda-cloud": {},
  "kernelspec": {
   "display_name": "Python [default]",
   "language": "python",
   "name": "python3"
  },
  "language_info": {
   "codemirror_mode": {
    "name": "ipython",
    "version": 3
   },
   "file_extension": ".py",
   "mimetype": "text/x-python",
   "name": "python",
   "nbconvert_exporter": "python",
   "pygments_lexer": "ipython3",
   "version": "3.5.2"
  }
 },
 "nbformat": 4,
 "nbformat_minor": 2
}
